{
 "cells": [
  {
   "cell_type": "markdown",
   "metadata": {},
   "source": [
    "### Actividad 1\n",
    "\n",
    "Antes de poder realizar cualquier operación de lectura/escritura en Python hay que realizar la apertura del archivo, esto se realiza con la función open() indicando su ubicación y nombre seguido, opcionalmente, por el \n",
    "modo o tipo de operación a realizar y la codificación que tendrá el archivo. Si no se indica el tipo de operación el archivo se abrirá en modo de lectura y si se omite la codificación se utilizará la codificación actual del sistema. Si no existe la ruta del archivo o se intenta abrir para lectura un archivo inexistente se producirá una excepción del \n",
    "tipo IOerror.  "
   ]
  },
  {
   "cell_type": "code",
   "execution_count": 1,
   "metadata": {},
   "outputs": [
    {
     "name": "stdout",
     "output_type": "stream",
     "text": [
      "Hola mundo!\n"
     ]
    }
   ],
   "source": [
    "archivo = open('./prueba.txt', mode='r', encoding='utf-8')\n",
    "# archivo = open('./prueba.txt', 'r')\n",
    "print(archivo.read())"
   ]
  },
  {
   "cell_type": "markdown",
   "metadata": {},
   "source": [
    "Para revisar el formato de codificacion del sistema se pueden utilizar las siguientes lineas:"
   ]
  },
  {
   "cell_type": "code",
   "execution_count": 2,
   "metadata": {},
   "outputs": [
    {
     "name": "stdout",
     "output_type": "stream",
     "text": [
      "utf-8\n"
     ]
    }
   ],
   "source": [
    "import locale\n",
    "print(locale.getpreferredencoding())"
   ]
  },
  {
   "cell_type": "markdown",
   "metadata": {},
   "source": [
    "Una vez que el archivo ya no se utilizara, debe cerrarse. Eso se consigue con la siguiente linea:"
   ]
  },
  {
   "cell_type": "code",
   "execution_count": 3,
   "metadata": {},
   "outputs": [],
   "source": [
    "archivo.close()"
   ]
  },
  {
   "cell_type": "markdown",
   "metadata": {},
   "source": [
    "Una estructura general que considere la apertura, el fallo de apertura y el cierre es la siguiente: "
   ]
  },
  {
   "cell_type": "code",
   "execution_count": 4,
   "metadata": {},
   "outputs": [
    {
     "name": "stdout",
     "output_type": "stream",
     "text": [
      "Hola mundo!\n",
      "Cerrando el archivo\n"
     ]
    }
   ],
   "source": [
    "try:\n",
    "    a = None\n",
    "    a = open('./prueba.txt', 'r')\n",
    "    print(a.read())\n",
    "except:\n",
    "    print('Error al abrir el archivo')\n",
    "finally:\n",
    "    if a is not None:\n",
    "        print('Cerrando el archivo')\n",
    "        a.close()"
   ]
  },
  {
   "cell_type": "markdown",
   "metadata": {},
   "source": [
    "Con el método read() es posible leer un número de bytes determinados. Si no se indica número se leerá todo lo \n",
    "que reste o si se alcanzó el final de archivo devolverá una cadena vacía."
   ]
  },
  {
   "cell_type": "code",
   "execution_count": 5,
   "metadata": {},
   "outputs": [
    {
     "name": "stdout",
     "output_type": "stream",
     "text": [
      "Hol\n",
      "a mundo!\n"
     ]
    }
   ],
   "source": [
    "archivo = open('./prueba.txt', 'r')\n",
    "c1 = archivo.read(3)\n",
    "c2 = archivo.read()\n",
    "print(c1)\n",
    "print(c2)\n",
    "archivo.close()"
   ]
  },
  {
   "cell_type": "markdown",
   "metadata": {},
   "source": [
    "El método readline() lee de un archivo una línea completa."
   ]
  },
  {
   "cell_type": "code",
   "execution_count": 6,
   "metadata": {},
   "outputs": [
    {
     "name": "stdout",
     "output_type": "stream",
     "text": [
      "Hola mundo!\n"
     ]
    }
   ],
   "source": [
    "a3 = open('./prueba.txt', 'r')\n",
    "while True:\n",
    "    linea = a3.readline()\n",
    "    if not linea:\n",
    "        break\n",
    "    print(linea)\n",
    "a3.close()"
   ]
  },
  {
   "cell_type": "markdown",
   "metadata": {},
   "source": [
    "El  método  readlines()  lee  todas  las  líneas  de  un  archivo  como  una  lista.  Si  se  indic a  el  parámetro  de  tamaño \n",
    "leerá esa cantidad de bytes del archivo y lo necesario hasta completar la última línea."
   ]
  },
  {
   "cell_type": "code",
   "execution_count": 7,
   "metadata": {},
   "outputs": [
    {
     "name": "stdout",
     "output_type": "stream",
     "text": [
      "1 Hola mundo!\n"
     ]
    }
   ],
   "source": [
    "archivo = open('./prueba.txt', 'r')\n",
    "lista = archivo.readlines()  # lee todas las lineas a una lista\n",
    "numlin = 0\n",
    "for linea in lista:\n",
    "    numlin += 1\n",
    "    print(numlin, linea)\n",
    "archivo.close()"
   ]
  },
  {
   "cell_type": "markdown",
   "metadata": {},
   "source": [
    "La sentencia with‐as permite usar los archivos de forma óptima cerrándolos y liberando la memoria al concluir el \n",
    "proceso de lectura. "
   ]
  },
  {
   "cell_type": "code",
   "execution_count": 8,
   "metadata": {},
   "outputs": [
    {
     "name": "stdout",
     "output_type": "stream",
     "text": [
      "Hola mundo!\n"
     ]
    }
   ],
   "source": [
    "with open('./prueba.txt', 'r') as archivo:\n",
    "    for linea in archivo:  # recorre linea a linea el archivo\n",
    "        print(linea)"
   ]
  },
  {
   "cell_type": "markdown",
   "metadata": {},
   "source": [
    "Para escribir en un archivo se utilizan las métodos write() y writelines(). El método write() escribe una cadena y \n",
    "el método writelines() escribe una lista a un archivo. Si en el momento de escribir el archivo no existe se creará \n",
    "uno nuevo."
   ]
  },
  {
   "cell_type": "code",
   "execution_count": 9,
   "metadata": {},
   "outputs": [],
   "source": [
    "cadena1 = 'Datos' # declara cadena1\n",
    "cadena2 = 'Secretos' # declara cadena2\n",
    "archivo2 = open('./datos2.txt','w') # abre archivo para escribir\n",
    "archivo2.write(cadena1 + '\\n') # escribe cadena1 añadiendo salto de línea\n",
    "archivo2.write(\"hola\") # escribe la cadena hola\n",
    "archivo2.write(cadena2) # escribe cadena2 en archivo\n",
    "archivo2.close() # cierra archivo\n",
    "\n",
    "lista = ['lunes', 'martes', 'miercoles', 'jueves', 'viernes'] # declara lista\n",
    "archivo2 = open('datos3.txt','w') # abre archivo en modo escritura\n",
    "archivo2.writelines(lista) # escribe toda la lista en el archivo\n",
    "archivo2.close() # cierra archivo"
   ]
  },
  {
   "cell_type": "markdown",
   "metadata": {},
   "source": [
    "Para mover el apuntador de archivo se usa el método seek()  que desplaza el puntero a una posición del archivo. \n",
    "También es posible conocer información sobre su posición para lo que se usa el método tell(), que devuelve la \n",
    "posición del puntero en un momento dado (en bytes). "
   ]
  },
  {
   "cell_type": "code",
   "execution_count": 10,
   "metadata": {},
   "outputs": [
    {
     "name": "stdout",
     "output_type": "stream",
     "text": [
      "mundo\n",
      "10\n"
     ]
    }
   ],
   "source": [
    "archivo = open('./prueba.txt', 'r')\n",
    "archivo.seek(5)  # mueve puntero al quinto byte\n",
    "cadena1 = archivo.read(5)  # lee los siguientes 5 bytes\n",
    "print(cadena1)  # muestra cadena\n",
    "print(archivo.tell())  # muestra posición del puntero\n",
    "archivo.close()  # cierra archivo\n"
   ]
  },
  {
   "cell_type": "markdown",
   "metadata": {},
   "source": [
    "Para leer y escribir cualquier tipo de objeto Python se importa el módulo pickle y  se usan sus métodos dump() y \n",
    "load() para leer y escribir los datos. "
   ]
  },
  {
   "cell_type": "code",
   "execution_count": 11,
   "metadata": {},
   "outputs": [
    {
     "name": "stdout",
     "output_type": "stream",
     "text": [
      "['algoritmos 1', 'algoritmos 2', 'estructuras']\n"
     ]
    }
   ],
   "source": [
    "import pickle  # importa módulo pickle\n",
    "lista = ['algoritmos 1', 'algoritmos 2', 'estructuras']  # declara lista\n",
    "archivo = open('materias.dat', 'wb')  # abre archivo binario para escribir\n",
    "pickle.dump(lista, archivo)  # escribe lista en archivo\n",
    "archivo.close()  # cierra archivo\n",
    "del lista  # borra de memoria la lista\n",
    "archivo = open('materias.dat', 'rb')  # abre archivo binario para leer\n",
    "lista = pickle.load(archivo)  # carga lista desde archivo\n",
    "print(lista)  # muestra lista\n",
    "archivo.close()  # cierra archivo"
   ]
  },
  {
   "cell_type": "markdown",
   "metadata": {},
   "source": [
    "También es posible crear directorios y recorrerlos desde Python. "
   ]
  },
  {
   "cell_type": "code",
   "execution_count": 12,
   "metadata": {},
   "outputs": [],
   "source": [
    "#crear un directorio\n",
    "import os\n",
    "def crear_directorio(ruta):\n",
    "    try:\n",
    "        os.makedirs(ruta)\n",
    "    except OSError:\n",
    "        pass\n",
    "    os.chdir(ruta)\n",
    "crear_directorio('./nuevo')"
   ]
  },
  {
   "cell_type": "code",
   "execution_count": 13,
   "metadata": {},
   "outputs": [
    {
     "name": "stdout",
     "output_type": "stream",
     "text": [
      "Directorio encontrado: ../\n",
      "\tActividad1.ipynb\n",
      "\tdatos2.txt\n",
      "\tdatos3.txt\n",
      "\tmaterias.dat\n",
      "\tprueba.txt\n",
      "Directorio encontrado: ../nuevo\n"
     ]
    }
   ],
   "source": [
    "#recorrer un directorio\n",
    "import os\n",
    "rootDir = '../'\n",
    "for dirName, subdirList, fileList in os.walk(rootDir):\n",
    "    print('Directorio encontrado: %s' % dirName)\n",
    "    for fname in fileList:\n",
    "        print('\\t%s' % fname)"
   ]
  },
  {
   "cell_type": "markdown",
   "metadata": {},
   "source": [
    "Finalmente, algo importante es que se pueden conocer algunos de los atributos de un archivo. "
   ]
  },
  {
   "cell_type": "code",
   "execution_count": 14,
   "metadata": {},
   "outputs": [
    {
     "name": "stdout",
     "output_type": "stream",
     "text": [
      "El archivo se ha cerrado correctamente\n",
      "Hola mundo!\n",
      "../prueba.txt\n",
      "r\n",
      "utf-8\n"
     ]
    }
   ],
   "source": [
    "archivo = open('../prueba.txt', 'r')\n",
    "contenido = archivo.read()\n",
    "nombre = archivo.name\n",
    "modo = archivo.mode\n",
    "encoding = archivo.encoding\n",
    "archivo.close()\n",
    "\n",
    "if archivo.closed:\n",
    "    print(\"El archivo se ha cerrado correctamente\")\n",
    "else:\n",
    "    print(\"El archivo permanece abierto\")\n",
    "print(contenido)\n",
    "print(nombre)\n",
    "print(modo)\n",
    "print(encoding)"
   ]
  }
 ],
 "metadata": {
  "kernelspec": {
   "display_name": "py-master",
   "language": "python",
   "name": "python3"
  },
  "language_info": {
   "codemirror_mode": {
    "name": "ipython",
    "version": 3
   },
   "file_extension": ".py",
   "mimetype": "text/x-python",
   "name": "python",
   "nbconvert_exporter": "python",
   "pygments_lexer": "ipython3",
   "version": "3.13.1"
  }
 },
 "nbformat": 4,
 "nbformat_minor": 2
}
