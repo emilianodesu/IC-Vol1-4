{
 "cells": [
  {
   "cell_type": "markdown",
   "metadata": {},
   "source": [
    "\n",
    "### Actividad 2\n",
    "\n",
    "Modificar el programa para que se realice la busqueda de un valor dado en el arbol binario.\n",
    "\n",
    "Para ello se puede implementar el algoritmo en pseudocodigo propuesto."
   ]
  },
  {
   "cell_type": "markdown",
   "metadata": {},
   "source": [
    "![figura7.3](img/fig7_3.png)  \n",
    "*Figura 7.3*"
   ]
  },
  {
   "cell_type": "code",
   "execution_count": 2,
   "metadata": {},
   "outputs": [],
   "source": [
    "class Nodo:\n",
    "    def __init__(self, valor):\n",
    "        self.hijoIzq = None\n",
    "        self.hijoDer = None\n",
    "        self.valor = valor\n",
    "\n",
    "class Arbol:\n",
    "    def __init__(self):\n",
    "        self.raiz = None\n",
    "\n",
    "    def obtenerRaiz(self):\n",
    "        return self.raiz\n",
    "    \n",
    "    def agregar(self, val):\n",
    "        # Si arbol vacio, agregar nodo raiz\n",
    "        if (self.raiz == None):\n",
    "            self.raiz = Nodo(val)\n",
    "        else:\n",
    "            # Si el arbol tiene raiz\n",
    "            self.agregarNodo(val, self.raiz)\n",
    "\n",
    "    def agregarNodo(self, val, nodo):\n",
    "        # Si el valor a introducir es menor que el valor que se encuentra\n",
    "        # en el nodo actual, se revisa el hijo izquierdo\n",
    "        if val < nodo.valor:\n",
    "            # Si hay hijo izquierdo\n",
    "            if nodo.hijoIzq != None:\n",
    "                self.agregarNodo(val, nodo.hijoIzq)\n",
    "            else:\n",
    "                # Si no hay hijo izquierdo se crea un nodo con el valor\n",
    "                nodo.hijoIzq = Nodo(val)\n",
    "        else:\n",
    "            # Si el valor a agregar es mayor al valor que tiene el nodo actual\n",
    "            # se revisa el hijo derecho\n",
    "            if nodo.hijoDer != None:\n",
    "                self.agregarNodo(val, nodo.hijoDer)\n",
    "            else:\n",
    "                # Si no hay hijo derecho se crea un nodo con el valor\n",
    "                nodo.hijoDer = Nodo(val)\n",
    "\n",
    "    def preorden(self, nodo):\n",
    "        if nodo != None:\n",
    "            print(str(nodo.valor))\n",
    "            if nodo.hijoIzq != None:\n",
    "                self.preorden(nodo.hijoIzq)\n",
    "            if nodo.hijoDer != None:\n",
    "                self.preorden(nodo.hijoDer)\n",
    "\n",
    "    def imprimePreorden(self):\n",
    "        if self.raiz != None:\n",
    "            self.preorden(self.raiz)\n",
    "\n",
    "    def busqueda(self, nodoX, val):\n",
    "        if nodoX == None or nodoX.valor == val:\n",
    "            return nodoX\n",
    "        if val < nodoX.valor:\n",
    "            return self.busqueda(nodoX.hijoIzq, val)\n",
    "        return self.busqueda(nodoX.hijoDer, val)"
   ]
  },
  {
   "cell_type": "code",
   "execution_count": 3,
   "metadata": {},
   "outputs": [],
   "source": [
    "# Clase controladora\n",
    "class Controladora:\n",
    "    def main(self):\n",
    "        arbol = Arbol()\n",
    "        arbol.agregar(8)\n",
    "        arbol.agregar(3)\n",
    "        arbol.agregar(10)\n",
    "        arbol.agregar(1)\n",
    "        arbol.agregar(6)\n",
    "        arbol.agregar(4)\n",
    "        arbol.agregar(7)\n",
    "        arbol.agregar(14)\n",
    "        arbol.agregar(13)\n",
    "        arbol.imprimePreorden()\n",
    "        nodo = arbol.busqueda(arbol.obtenerRaiz(), 6)\n",
    "        if nodo != None:\n",
    "            print(\"Nodo encontrado: \" + str(nodo.valor))\n",
    "        else:\n",
    "            print(\"Nodo no encontrado\")"
   ]
  },
  {
   "cell_type": "code",
   "execution_count": 4,
   "metadata": {},
   "outputs": [
    {
     "name": "stdout",
     "output_type": "stream",
     "text": [
      "8\n",
      "3\n",
      "1\n",
      "6\n",
      "4\n",
      "7\n",
      "10\n",
      "14\n",
      "13\n",
      "Nodo encontrado: 6\n"
     ]
    }
   ],
   "source": [
    "obj = Controladora()\n",
    "obj.main()"
   ]
  }
 ],
 "metadata": {
  "kernelspec": {
   "display_name": "py-master",
   "language": "python",
   "name": "python3"
  },
  "language_info": {
   "codemirror_mode": {
    "name": "ipython",
    "version": 3
   },
   "file_extension": ".py",
   "mimetype": "text/x-python",
   "name": "python",
   "nbconvert_exporter": "python",
   "pygments_lexer": "ipython3",
   "version": "3.13.1"
  }
 },
 "nbformat": 4,
 "nbformat_minor": 2
}
