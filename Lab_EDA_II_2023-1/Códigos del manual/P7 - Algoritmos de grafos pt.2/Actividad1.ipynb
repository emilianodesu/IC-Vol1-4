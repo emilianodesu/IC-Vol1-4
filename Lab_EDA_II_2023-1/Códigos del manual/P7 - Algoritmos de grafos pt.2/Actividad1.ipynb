{
 "cells": [
  {
   "cell_type": "markdown",
   "metadata": {},
   "source": [
    "### Actividad 1\n",
    "\n",
    "Realizar  un  programa  donde  se  implemente  el  algoritmo  DFS  que  se  analizó  en  esta  guía  utilizando  el pseudocódigo  explicado  del  mismo,  además  probar  que  la  salida  coincide  con  los  resultados  del  ejemplo mostrado en las figuras 7.1 ‐ 7.8."
   ]
  },
  {
   "cell_type": "markdown",
   "metadata": {},
   "source": [
    "![figura7.1](img/fig7_1.png)  \n",
    "*Figura 7.1*"
   ]
  },
  {
   "cell_type": "markdown",
   "metadata": {},
   "source": [
    "![figura7.2-4](img/fig7_2-4.png)  \n",
    "*Figura 7.2-4*"
   ]
  },
  {
   "cell_type": "markdown",
   "metadata": {},
   "source": [
    "![figura7.5-7](img/fig7_5-7.png)  \n",
    "*Figura 7.5-7*"
   ]
  },
  {
   "cell_type": "markdown",
   "metadata": {},
   "source": [
    "![figura7.8](img/fig7_8.png)  \n",
    "*Figura 7.8*"
   ]
  },
  {
   "cell_type": "markdown",
   "metadata": {},
   "source": [
    "Para ello se plantea el algoritmo en el siguiente diagrama de clases: \n",
    "![figura7.9](img/fig7_9.png)  \n",
    "*Figura 7.9*"
   ]
  },
  {
   "cell_type": "markdown",
   "metadata": {},
   "source": [
    "A  continuación,  se  dan  las  implementaciones  de  las  clases  Grafo  y  Vertice  en  Python,  y  como  parte  de  la actividad  se  debe  realizar  la  controladora  que  contenga  un  método  que  dé  la  secuencia  de  solución  para  la \n",
    "búsqueda por profundidad del grafo dirigido de la figura 7.1.\n",
    "\n",
    "La clase Vertice es"
   ]
  },
  {
   "cell_type": "code",
   "execution_count": 5,
   "metadata": {},
   "outputs": [],
   "source": [
    "class Vertice:\n",
    "    def __init__(self, n):\n",
    "        self.nombre = n\n",
    "        self.vecinos = list()\n",
    "        self.d = 0  # tiempo de descubrimiento\n",
    "        self.f = 0  # tiempo de término\n",
    "        self.color = 'white'\n",
    "        self.pred = -1\n",
    "\n",
    "    def agregarVecino(self, v):\n",
    "        if v not in self.vecinos:\n",
    "            self.vecinos.append(v)\n",
    "            self.vecinos.sort()"
   ]
  },
  {
   "cell_type": "markdown",
   "metadata": {},
   "source": [
    "La clase Grafo"
   ]
  },
  {
   "cell_type": "code",
   "execution_count": 6,
   "metadata": {},
   "outputs": [],
   "source": [
    "class Grafo:\n",
    "    vertices = {}\n",
    "    tiempo = 0\n",
    "\n",
    "    def agregarVertice(self, vertice):\n",
    "        if isinstance(vertice, Vertice) and vertice.nombre not in self.vertices:\n",
    "            self.vertices[vertice.nombre] = vertice\n",
    "            return True\n",
    "        else:\n",
    "            return False\n",
    "\n",
    "    def agregarArista(self, u, v):\n",
    "        if u in self.vertices and v in self.vertices:\n",
    "            for key, value in self.vertices.items():\n",
    "                if key == u:\n",
    "                    value.agregarVecino(v)\n",
    "            return True\n",
    "        else:\n",
    "            return False\n",
    "\n",
    "    def imprimeGrafo(self):\n",
    "        for key in sorted(list(self.vertices.keys())):\n",
    "            print(\"Vertice: \" + key)\n",
    "            print(\"Descubierto/Termino:\" + str(self.vertices[key].d) + \"/\" + str(self.vertices[key].f))\n",
    "\n",
    "    def dfs(self):\n",
    "        self.tiempo = 0\n",
    "        for u in sorted(list(self.vertices.keys())):\n",
    "            if self.vertices[u].color == 'white':\n",
    "                self.dfsVisitar(self.vertices[u])\n",
    "\n",
    "    def dfsVisitar(self, vert):\n",
    "        self.tiempo += 1\n",
    "        vert.d = self.tiempo\n",
    "        vert.color = 'gris'\n",
    "        for v in vert.vecinos:\n",
    "            if self.vertices[v].color == 'white':\n",
    "                self.vertices[v].pred = vert\n",
    "                self.dfsVisitar(self.vertices[v])\n",
    "        vert.color = 'black'\n",
    "        self.tiempo += 1\n",
    "        vert.f = self.tiempo"
   ]
  },
  {
   "cell_type": "code",
   "execution_count": 7,
   "metadata": {},
   "outputs": [],
   "source": [
    "class Controladora:\n",
    "    def main(self):\n",
    "        # Crear el grafo dirigido de la figura\n",
    "        g = Grafo()\n",
    "\n",
    "        for v in ['u', 'v', 'x', 'y', 'w', 'z']:\n",
    "            g.agregarVertice(Vertice(v))\n",
    "\n",
    "        aristas = [\n",
    "            ('u', 'v'), ('u', 'x'), ('x', 'v'), ('v', 'y'),\n",
    "            ('y', 'x'), ('w', 'y'), ('w', 'z'), ('z', 'z')\n",
    "        ]\n",
    "\n",
    "        for arista in aristas:\n",
    "            g.agregarArista(arista[0], arista[1])\n",
    "\n",
    "        # Realizar DFS\n",
    "        print(\"\\nRealizando DFS en el grafo:\")\n",
    "        g.dfs()\n",
    "\n",
    "        # Imprimir resultados\n",
    "        print(\"\\nResultados de la DFS:\")\n",
    "        g.imprimeGrafo()"
   ]
  },
  {
   "cell_type": "code",
   "execution_count": 8,
   "metadata": {},
   "outputs": [
    {
     "name": "stdout",
     "output_type": "stream",
     "text": [
      "\n",
      "Realizando DFS en el grafo:\n",
      "\n",
      "Resultados de la DFS:\n",
      "Vertice: u\n",
      "Descubierto/Termino:1/8\n",
      "Vertice: v\n",
      "Descubierto/Termino:2/7\n",
      "Vertice: w\n",
      "Descubierto/Termino:9/12\n",
      "Vertice: x\n",
      "Descubierto/Termino:4/5\n",
      "Vertice: y\n",
      "Descubierto/Termino:3/6\n",
      "Vertice: z\n",
      "Descubierto/Termino:10/11\n"
     ]
    }
   ],
   "source": [
    "if __name__ == \"__main__\":\n",
    "    Controladora().main()"
   ]
  }
 ],
 "metadata": {
  "kernelspec": {
   "display_name": "py-master",
   "language": "python",
   "name": "python3"
  },
  "language_info": {
   "codemirror_mode": {
    "name": "ipython",
    "version": 3
   },
   "file_extension": ".py",
   "mimetype": "text/x-python",
   "name": "python",
   "nbconvert_exporter": "python",
   "pygments_lexer": "ipython3",
   "version": "3.13.1"
  }
 },
 "nbformat": 4,
 "nbformat_minor": 2
}
